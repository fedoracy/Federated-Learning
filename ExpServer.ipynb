{
 "cells": [
  {
   "cell_type": "code",
   "execution_count": null,
   "metadata": {},
   "outputs": [
    {
     "name": "stdout",
     "output_type": "stream",
     "text": [
      "listening on 127.0.0.1:5000\n",
      "94498d68c9e344278e83d920308d46e0 connected\n",
      "client wake_up:  94498d68c9e344278e83d920308d46e0\n",
      "44ad9d7a16b9483fa96ef975c717aceb connected\n",
      "client wake_up:  44ad9d7a16b9483fa96ef975c717aceb\n",
      "f50fe0253d314d3ebf9cbbadd479403d connected\n",
      "e8d24a176c6948df8368580be48475a2 connected\n",
      "client wake_up:  f50fe0253d314d3ebf9cbbadd479403d\n",
      "client wake_up:  e8d24a176c6948df8368580be48475a2\n",
      "7055e14217c74bbcb6579a6b0c87a754 connected\n",
      "client wake_up:  7055e14217c74bbcb6579a6b0c87a754\n",
      "8a68a5e1b662492b8543e2916e4dcd84 connected\n",
      "client wake_up:  8a68a5e1b662492b8543e2916e4dcd84\n",
      "b58a0c258bcd424e8c16bca8cf1c60e2 connected\n",
      "client wake_up:  b58a0c258bcd424e8c16bca8cf1c60e2\n",
      "7a4b5d8973a04b238c9fcc6444e20571 connected\n",
      "a03d5d60afc74c53b504cfa9d40dc3b9 connected\n",
      "client wake_up:  a03d5d60afc74c53b504cfa9d40dc3b9\n",
      "client wake_up:  7a4b5d8973a04b238c9fcc6444e20571\n",
      "97fb3663fc604df3b1381ff83d381ae5 connected\n"
     ]
    }
   ],
   "source": [
    "%run fl_server"
   ]
  },
  {
   "cell_type": "code",
   "execution_count": null,
   "metadata": {},
   "outputs": [],
   "source": []
  }
 ],
 "metadata": {
  "kernelspec": {
   "display_name": "Python 3",
   "language": "python",
   "name": "python3"
  },
  "language_info": {
   "codemirror_mode": {
    "name": "ipython",
    "version": 3
   },
   "file_extension": ".py",
   "mimetype": "text/x-python",
   "name": "python",
   "nbconvert_exporter": "python",
   "pygments_lexer": "ipython3",
   "version": "3.6.4"
  }
 },
 "nbformat": 4,
 "nbformat_minor": 2
}
